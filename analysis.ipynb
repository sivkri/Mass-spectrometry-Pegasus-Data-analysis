{
 "cells": [
  {
   "cell_type": "code",
   "execution_count": 1,
   "metadata": {},
   "outputs": [],
   "source": [
    "import pandas as pd\n",
    "import matplotlib.pyplot as plt\n",
    "from matplotlib_venn import venn3, venn3_circles"
   ]
  },
  {
   "cell_type": "code",
   "execution_count": 2,
   "metadata": {},
   "outputs": [
    {
     "data": {
      "text/plain": [
       "((9046, 25), (9046, 25), (9046, 25))"
      ]
     },
     "execution_count": 2,
     "metadata": {},
     "output_type": "execute_result"
    }
   ],
   "source": [
    "\n",
    "\n",
    "# display all columns\n",
    "pd.set_option('display.max_columns', None)\n",
    "\n",
    "\n",
    "wt_t = pd.read_excel(\"Perseus_Analysis_E221107_NataliaStec_WT-DMSO_vs_WT-E20.xlsx\")\n",
    "ko = pd.read_excel(\"Perseus_Analysis_E221107_NataliaStec_WT-DMSO_vs_HuRKO-DMSO.xlsx\")\n",
    "ko_t = pd.read_excel(\"Perseus_Analysis_E221107_NataliaStec_HuRKO-DMSO_vs_HuRKO-E20.xlsx\")\n",
    "\n",
    "wt_t.shape, ko.shape, ko_t.shape"
   ]
  },
  {
   "cell_type": "markdown",
   "metadata": {},
   "source": [
    "# 01. Keep significant"
   ]
  },
  {
   "cell_type": "code",
   "execution_count": 3,
   "metadata": {},
   "outputs": [
    {
     "name": "stdout",
     "output_type": "stream",
     "text": [
      "Shape before: (9046, 25)\n",
      "Shape after: (2998, 25)\n"
     ]
    }
   ],
   "source": [
    "# 01. \n",
    "\n",
    "print(f\"Shape before: {wt_t.shape}\")\n",
    "wt_t =  wt_t[wt_t[\"Student's T-test Significant WT-DMSO_WT-E20\"]==\"+\"]\n",
    "print(f\"Shape after: {wt_t.shape}\")"
   ]
  },
  {
   "cell_type": "code",
   "execution_count": 4,
   "metadata": {},
   "outputs": [
    {
     "name": "stdout",
     "output_type": "stream",
     "text": [
      "Shape before: (9046, 25)\n",
      "Shape after: (2809, 25)\n"
     ]
    }
   ],
   "source": [
    "print(f\"Shape before: {ko.shape}\")\n",
    "ko = ko[ko[\"Student's T-test Significant WT-DMSO_HuRKO-DMSO\"]==\"+\"]\n",
    "print(f\"Shape after: {ko.shape}\")"
   ]
  },
  {
   "cell_type": "code",
   "execution_count": 5,
   "metadata": {},
   "outputs": [
    {
     "name": "stdout",
     "output_type": "stream",
     "text": [
      "Shape before: (9046, 25)\n",
      "Shape after: (641, 25)\n"
     ]
    }
   ],
   "source": [
    "print(f\"Shape before: {ko_t.shape}\")\n",
    "ko_t = ko_t[ko_t[\"Student's T-test Significant HuRKO-DMSO_HuRKO-E20\"]==\"+\"]\n",
    "print(f\"Shape after: {ko_t.shape}\")"
   ]
  },
  {
   "cell_type": "markdown",
   "metadata": {},
   "source": [
    "# 02. Filtering based on intervals\n",
    "\n",
    "Values are log2 transformed, we want things twice or more up/down-regulated."
   ]
  },
  {
   "cell_type": "code",
   "execution_count": 6,
   "metadata": {},
   "outputs": [
    {
     "name": "stdout",
     "output_type": "stream",
     "text": [
      "Shape before: (2998, 25)\n",
      "Shape after: (154, 25)\n"
     ]
    }
   ],
   "source": [
    "print(f\"Shape before: {wt_t.shape}\")\n",
    "wt_t = wt_t[wt_t[\"Student's T-test Difference WT-DMSO_WT-E20\"].abs() > 1.0]\n",
    "print(f\"Shape after: {wt_t.shape}\")"
   ]
  },
  {
   "cell_type": "code",
   "execution_count": 7,
   "metadata": {},
   "outputs": [
    {
     "name": "stdout",
     "output_type": "stream",
     "text": [
      "Shape before: (2809, 25)\n",
      "Shape after: (477, 25)\n"
     ]
    }
   ],
   "source": [
    "print(f\"Shape before: {ko.shape}\")\n",
    "ko = ko[ko[\"Student's T-test Difference WT-DMSO_HuRKO-DMSO\"].abs() > 1.0]\n",
    "print(f\"Shape after: {ko.shape}\")"
   ]
  },
  {
   "cell_type": "code",
   "execution_count": 8,
   "metadata": {},
   "outputs": [
    {
     "name": "stdout",
     "output_type": "stream",
     "text": [
      "Shape before: (641, 25)\n",
      "Shape after: (61, 25)\n"
     ]
    }
   ],
   "source": [
    "print(f\"Shape before: {ko_t.shape}\")\n",
    "ko_t = ko_t[ko_t[\"Student's T-test Difference HuRKO-DMSO_HuRKO-E20\"].abs() > 1.0]\n",
    "print(f\"Shape after: {ko_t.shape}\")"
   ]
  },
  {
   "cell_type": "markdown",
   "metadata": {},
   "source": [
    "# Split based on up/down-regulation"
   ]
  },
  {
   "cell_type": "code",
   "execution_count": 9,
   "metadata": {},
   "outputs": [
    {
     "name": "stdout",
     "output_type": "stream",
     "text": [
      "Shapes: (45, 25), (109, 25) == (154, 25)\n"
     ]
    }
   ],
   "source": [
    "wt_t_up = wt_t[wt_t[\"Student's T-test Difference WT-DMSO_WT-E20\"] < -1.0]\n",
    "wt_t_down = wt_t[wt_t[\"Student's T-test Difference WT-DMSO_WT-E20\"] > 1.0]\n",
    "\n",
    "print(f\"Shapes: {wt_t_up.shape}, {wt_t_down.shape} == {wt_t.shape}\") "
   ]
  },
  {
   "cell_type": "code",
   "execution_count": 10,
   "metadata": {},
   "outputs": [
    {
     "name": "stdout",
     "output_type": "stream",
     "text": [
      "Shapes: (229, 25), (248, 25) == (477, 25)\n"
     ]
    }
   ],
   "source": [
    "ko_up = ko[ko[\"Student's T-test Difference WT-DMSO_HuRKO-DMSO\"] < -1.0]\n",
    "ko_down = ko[ko[\"Student's T-test Difference WT-DMSO_HuRKO-DMSO\"] > 1.0]\n",
    "\n",
    "print(f\"Shapes: {ko_up.shape}, {ko_down.shape} == {ko.shape}\")"
   ]
  },
  {
   "cell_type": "code",
   "execution_count": 11,
   "metadata": {},
   "outputs": [
    {
     "name": "stdout",
     "output_type": "stream",
     "text": [
      "Shapes: (20, 25), (41, 25), == (61, 25)\n"
     ]
    }
   ],
   "source": [
    "ko_t_up = ko_t[ko_t[\"Student's T-test Difference HuRKO-DMSO_HuRKO-E20\"] < -1.0]\n",
    "ko_t_down = ko_t[ko_t[\"Student's T-test Difference HuRKO-DMSO_HuRKO-E20\"] > 1.0]\n",
    "\n",
    "print(f\"Shapes: {ko_t_up.shape}, {ko_t_down.shape}, == {ko_t.shape}\")"
   ]
  },
  {
   "cell_type": "markdown",
   "metadata": {},
   "source": [
    "# Overlap analysis"
   ]
  },
  {
   "cell_type": "code",
   "execution_count": 12,
   "metadata": {},
   "outputs": [],
   "source": [
    "# merge \n",
    "\n",
    "UP_MERGED = pd.merge(ko_t_up[[\"Genes\", \"Student's T-test Difference HuRKO-DMSO_HuRKO-E20\"]], wt_t_up[[\"Genes\", \"Student's T-test Difference WT-DMSO_WT-E20\"]], on=\"Genes\", how=\"outer\").merge(ko_up[[\"Genes\", \"Student's T-test Difference WT-DMSO_HuRKO-DMSO\"]], on=\"Genes\", how=\"outer\").sort_values(by=\"Genes\")\n",
    "DOWN_MERGED = pd.merge(ko_t_down[[\"Genes\", \"Student's T-test Difference HuRKO-DMSO_HuRKO-E20\"]], wt_t_down[[\"Genes\", \"Student's T-test Difference WT-DMSO_WT-E20\"]], on=\"Genes\", how=\"outer\").merge(ko_down[[\"Genes\", \"Student's T-test Difference WT-DMSO_HuRKO-DMSO\"]], on=\"Genes\", how=\"outer\").sort_values(by=\"Genes\")"
   ]
  },
  {
   "cell_type": "markdown",
   "metadata": {},
   "source": [
    "## UP"
   ]
  },
  {
   "cell_type": "code",
   "execution_count": 13,
   "metadata": {},
   "outputs": [
    {
     "data": {
      "text/html": [
       "<div>\n",
       "<style scoped>\n",
       "    .dataframe tbody tr th:only-of-type {\n",
       "        vertical-align: middle;\n",
       "    }\n",
       "\n",
       "    .dataframe tbody tr th {\n",
       "        vertical-align: top;\n",
       "    }\n",
       "\n",
       "    .dataframe thead th {\n",
       "        text-align: right;\n",
       "    }\n",
       "</style>\n",
       "<table border=\"1\" class=\"dataframe\">\n",
       "  <thead>\n",
       "    <tr style=\"text-align: right;\">\n",
       "      <th></th>\n",
       "      <th>Genes</th>\n",
       "      <th>Student's T-test Difference HuRKO-DMSO_HuRKO-E20</th>\n",
       "      <th>Student's T-test Difference WT-DMSO_WT-E20</th>\n",
       "      <th>Student's T-test Difference WT-DMSO_HuRKO-DMSO</th>\n",
       "    </tr>\n",
       "  </thead>\n",
       "  <tbody>\n",
       "    <tr>\n",
       "      <th>0</th>\n",
       "      <td>AKR1C2</td>\n",
       "      <td>NaN</td>\n",
       "      <td>-1.563329</td>\n",
       "      <td>-3.298530</td>\n",
       "    </tr>\n",
       "    <tr>\n",
       "      <th>1</th>\n",
       "      <td>CTGF</td>\n",
       "      <td>NaN</td>\n",
       "      <td>-1.376413</td>\n",
       "      <td>-1.946327</td>\n",
       "    </tr>\n",
       "    <tr>\n",
       "      <th>2</th>\n",
       "      <td>EFEMP1</td>\n",
       "      <td>-1.078254</td>\n",
       "      <td>-2.765603</td>\n",
       "      <td>NaN</td>\n",
       "    </tr>\n",
       "    <tr>\n",
       "      <th>3</th>\n",
       "      <td>GDF15</td>\n",
       "      <td>NaN</td>\n",
       "      <td>-1.098289</td>\n",
       "      <td>-1.549348</td>\n",
       "    </tr>\n",
       "    <tr>\n",
       "      <th>4</th>\n",
       "      <td>IFRD1</td>\n",
       "      <td>-2.003921</td>\n",
       "      <td>-3.176128</td>\n",
       "      <td>NaN</td>\n",
       "    </tr>\n",
       "    <tr>\n",
       "      <th>5</th>\n",
       "      <td>IREB2</td>\n",
       "      <td>NaN</td>\n",
       "      <td>-1.348315</td>\n",
       "      <td>-1.431301</td>\n",
       "    </tr>\n",
       "    <tr>\n",
       "      <th>6</th>\n",
       "      <td>KDM3A</td>\n",
       "      <td>-1.122491</td>\n",
       "      <td>-1.071396</td>\n",
       "      <td>NaN</td>\n",
       "    </tr>\n",
       "    <tr>\n",
       "      <th>7</th>\n",
       "      <td>LBHD2</td>\n",
       "      <td>NaN</td>\n",
       "      <td>-1.030611</td>\n",
       "      <td>-2.625185</td>\n",
       "    </tr>\n",
       "    <tr>\n",
       "      <th>8</th>\n",
       "      <td>MON2</td>\n",
       "      <td>-1.151378</td>\n",
       "      <td>-1.262904</td>\n",
       "      <td>NaN</td>\n",
       "    </tr>\n",
       "    <tr>\n",
       "      <th>9</th>\n",
       "      <td>P4HA1</td>\n",
       "      <td>-1.475825</td>\n",
       "      <td>-1.317265</td>\n",
       "      <td>NaN</td>\n",
       "    </tr>\n",
       "    <tr>\n",
       "      <th>10</th>\n",
       "      <td>PLIN2</td>\n",
       "      <td>-1.776472</td>\n",
       "      <td>-1.334581</td>\n",
       "      <td>NaN</td>\n",
       "    </tr>\n",
       "    <tr>\n",
       "      <th>11</th>\n",
       "      <td>SLCO2A1</td>\n",
       "      <td>NaN</td>\n",
       "      <td>-1.492081</td>\n",
       "      <td>-1.757436</td>\n",
       "    </tr>\n",
       "    <tr>\n",
       "      <th>12</th>\n",
       "      <td>STARD5</td>\n",
       "      <td>NaN</td>\n",
       "      <td>-2.365530</td>\n",
       "      <td>-2.467425</td>\n",
       "    </tr>\n",
       "    <tr>\n",
       "      <th>13</th>\n",
       "      <td>ZXDC</td>\n",
       "      <td>NaN</td>\n",
       "      <td>-2.170555</td>\n",
       "      <td>-3.370455</td>\n",
       "    </tr>\n",
       "  </tbody>\n",
       "</table>\n",
       "</div>"
      ],
      "text/plain": [
       "      Genes  Student's T-test Difference HuRKO-DMSO_HuRKO-E20  \\\n",
       "0    AKR1C2                                               NaN   \n",
       "1      CTGF                                               NaN   \n",
       "2    EFEMP1                                         -1.078254   \n",
       "3     GDF15                                               NaN   \n",
       "4     IFRD1                                         -2.003921   \n",
       "5     IREB2                                               NaN   \n",
       "6     KDM3A                                         -1.122491   \n",
       "7     LBHD2                                               NaN   \n",
       "8      MON2                                         -1.151378   \n",
       "9     P4HA1                                         -1.475825   \n",
       "10    PLIN2                                         -1.776472   \n",
       "11  SLCO2A1                                               NaN   \n",
       "12   STARD5                                               NaN   \n",
       "13     ZXDC                                               NaN   \n",
       "\n",
       "    Student's T-test Difference WT-DMSO_WT-E20  \\\n",
       "0                                    -1.563329   \n",
       "1                                    -1.376413   \n",
       "2                                    -2.765603   \n",
       "3                                    -1.098289   \n",
       "4                                    -3.176128   \n",
       "5                                    -1.348315   \n",
       "6                                    -1.071396   \n",
       "7                                    -1.030611   \n",
       "8                                    -1.262904   \n",
       "9                                    -1.317265   \n",
       "10                                   -1.334581   \n",
       "11                                   -1.492081   \n",
       "12                                   -2.365530   \n",
       "13                                   -2.170555   \n",
       "\n",
       "    Student's T-test Difference WT-DMSO_HuRKO-DMSO  \n",
       "0                                        -3.298530  \n",
       "1                                        -1.946327  \n",
       "2                                              NaN  \n",
       "3                                        -1.549348  \n",
       "4                                              NaN  \n",
       "5                                        -1.431301  \n",
       "6                                              NaN  \n",
       "7                                        -2.625185  \n",
       "8                                              NaN  \n",
       "9                                              NaN  \n",
       "10                                             NaN  \n",
       "11                                       -1.757436  \n",
       "12                                       -2.467425  \n",
       "13                                       -3.370455  "
      ]
     },
     "execution_count": 13,
     "metadata": {},
     "output_type": "execute_result"
    }
   ],
   "source": [
    "OVERLAPPING_UP_MERGED = UP_MERGED[UP_MERGED.isna().sum(axis=1)<=1].reset_index(drop=True).sort_values(by=\"Genes\", ascending=True)\n",
    "OVERLAPPING_UP_MERGED"
   ]
  },
  {
   "cell_type": "code",
   "execution_count": 14,
   "metadata": {},
   "outputs": [
    {
     "data": {
      "image/png": "[encoded data removed]",
      "text/plain": [
       "<Figure size 1800x1800 with 1 Axes>"
      ]
     },
     "metadata": {},
     "output_type": "display_data"
    }
   ],
   "source": [
    "# venn diagram of \"Genes\" columns from upregulated dataframes\n",
    "\n",
    "plt.figure(figsize=(25,25))\n",
    "\n",
    "\n",
    "fig = venn3([set(ko_t_up[\"Genes\"]), set(wt_t_up[\"Genes\"]), set(ko_up[\"Genes\"])], set_labels = ('HuR-KO-E20', 'WT-E20', 'WT-vs.-HuR-KO-DMSO'), set_colors=('r', 'g', 'b'), alpha=0.4, normalize_to=1.0)\n",
    "\n",
    "for text in fig.set_labels:\n",
    "    text.set_fontsize(24)\n",
    "for text in fig.subset_labels:\n",
    "    if text:\n",
    "        text.set_fontsize(22)\n",
    "\n",
    "\n",
    "\n",
    "\n",
    "# save the figure\n",
    "plt.savefig(\"venn_diagram_upregulated.jpg\")\n",
    "plt.show()\n",
    "plt.close()"
   ]
  },
  {
   "cell_type": "markdown",
   "metadata": {},
   "source": [
    "## DOWN"
   ]
  },
  {
   "cell_type": "code",
   "execution_count": 15,
   "metadata": {},
   "outputs": [
    {
     "data": {
      "image/png": "[encoded data removed]",
      "text/plain": [
       "<Figure size 1800x1800 with 1 Axes>"
      ]
     },
     "metadata": {},
     "output_type": "display_data"
    }
   ],
   "source": [
    "# venn diagram of \"Genes\" columns from downregulated dataframes\n",
    "plt.figure(figsize=(25,25))\n",
    "\n",
    "fig = venn3([set(ko_t_down[\"Genes\"]), set(wt_t_down[\"Genes\"]), set(ko_down[\"Genes\"])], set_labels = ('HuR-KO-E20', 'WT-E20', 'WT-vs.-HuR-KO-DMSO'), set_colors=('r', 'g', 'b'), alpha=0.4, normalize_to=1.0)\n",
    "\n",
    "for text in fig.set_labels:\n",
    "    text.set_fontsize(24)\n",
    "for text in fig.subset_labels:\n",
    "    if text:\n",
    "        text.set_fontsize(22)\n",
    "\n",
    "\n",
    "\n",
    "\n",
    "# save the figure\n",
    "plt.savefig(\"venn_diagram_downregulated.jpg\")\n",
    "plt.show()\n",
    "plt.close()"
   ]
  },
  {
   "cell_type": "code",
   "execution_count": 16,
   "metadata": {},
   "outputs": [
    {
     "data": {
      "text/html": [
       "<div>\n",
       "<style scoped>\n",
       "    .dataframe tbody tr th:only-of-type {\n",
       "        vertical-align: middle;\n",
       "    }\n",
       "\n",
       "    .dataframe tbody tr th {\n",
       "        vertical-align: top;\n",
       "    }\n",
       "\n",
       "    .dataframe thead th {\n",
       "        text-align: right;\n",
       "    }\n",
       "</style>\n",
       "<table border=\"1\" class=\"dataframe\">\n",
       "  <thead>\n",
       "    <tr style=\"text-align: right;\">\n",
       "      <th></th>\n",
       "      <th>Genes</th>\n",
       "      <th>Student's T-test Difference HuRKO-DMSO_HuRKO-E20</th>\n",
       "      <th>Student's T-test Difference WT-DMSO_WT-E20</th>\n",
       "      <th>Student's T-test Difference WT-DMSO_HuRKO-DMSO</th>\n",
       "    </tr>\n",
       "  </thead>\n",
       "  <tbody>\n",
       "    <tr>\n",
       "      <th>0</th>\n",
       "      <td>CDT1</td>\n",
       "      <td>1.521299</td>\n",
       "      <td>1.691809</td>\n",
       "      <td>NaN</td>\n",
       "    </tr>\n",
       "    <tr>\n",
       "      <th>1</th>\n",
       "      <td>CGA</td>\n",
       "      <td>NaN</td>\n",
       "      <td>2.242831</td>\n",
       "      <td>6.614213</td>\n",
       "    </tr>\n",
       "    <tr>\n",
       "      <th>2</th>\n",
       "      <td>DDX11</td>\n",
       "      <td>1.069162</td>\n",
       "      <td>1.343341</td>\n",
       "      <td>NaN</td>\n",
       "    </tr>\n",
       "    <tr>\n",
       "      <th>3</th>\n",
       "      <td>EFHD1</td>\n",
       "      <td>NaN</td>\n",
       "      <td>1.037879</td>\n",
       "      <td>1.460240</td>\n",
       "    </tr>\n",
       "    <tr>\n",
       "      <th>4</th>\n",
       "      <td>ELP3</td>\n",
       "      <td>1.335864</td>\n",
       "      <td>1.727489</td>\n",
       "      <td>NaN</td>\n",
       "    </tr>\n",
       "    <tr>\n",
       "      <th>5</th>\n",
       "      <td>FDFT1</td>\n",
       "      <td>1.684698</td>\n",
       "      <td>1.495616</td>\n",
       "      <td>NaN</td>\n",
       "    </tr>\n",
       "    <tr>\n",
       "      <th>6</th>\n",
       "      <td>FDX1</td>\n",
       "      <td>1.367355</td>\n",
       "      <td>1.791100</td>\n",
       "      <td>NaN</td>\n",
       "    </tr>\n",
       "    <tr>\n",
       "      <th>7</th>\n",
       "      <td>FECH</td>\n",
       "      <td>1.167544</td>\n",
       "      <td>1.485250</td>\n",
       "      <td>NaN</td>\n",
       "    </tr>\n",
       "    <tr>\n",
       "      <th>8</th>\n",
       "      <td>HMGCR</td>\n",
       "      <td>2.191497</td>\n",
       "      <td>1.404247</td>\n",
       "      <td>NaN</td>\n",
       "    </tr>\n",
       "    <tr>\n",
       "      <th>9</th>\n",
       "      <td>HMGCS1</td>\n",
       "      <td>1.226283</td>\n",
       "      <td>1.231774</td>\n",
       "      <td>NaN</td>\n",
       "    </tr>\n",
       "    <tr>\n",
       "      <th>10</th>\n",
       "      <td>HMOX1</td>\n",
       "      <td>1.974849</td>\n",
       "      <td>1.781356</td>\n",
       "      <td>NaN</td>\n",
       "    </tr>\n",
       "    <tr>\n",
       "      <th>11</th>\n",
       "      <td>HTRA1</td>\n",
       "      <td>1.564651</td>\n",
       "      <td>1.385703</td>\n",
       "      <td>NaN</td>\n",
       "    </tr>\n",
       "    <tr>\n",
       "      <th>12</th>\n",
       "      <td>LCN1</td>\n",
       "      <td>NaN</td>\n",
       "      <td>1.694185</td>\n",
       "      <td>1.528779</td>\n",
       "    </tr>\n",
       "    <tr>\n",
       "      <th>13</th>\n",
       "      <td>LIAS</td>\n",
       "      <td>2.263477</td>\n",
       "      <td>3.178721</td>\n",
       "      <td>NaN</td>\n",
       "    </tr>\n",
       "    <tr>\n",
       "      <th>14</th>\n",
       "      <td>MRPS18C</td>\n",
       "      <td>NaN</td>\n",
       "      <td>1.449196</td>\n",
       "      <td>1.095232</td>\n",
       "    </tr>\n",
       "    <tr>\n",
       "      <th>15</th>\n",
       "      <td>ODC1</td>\n",
       "      <td>1.503748</td>\n",
       "      <td>1.759535</td>\n",
       "      <td>NaN</td>\n",
       "    </tr>\n",
       "    <tr>\n",
       "      <th>16</th>\n",
       "      <td>POLD1</td>\n",
       "      <td>1.501854</td>\n",
       "      <td>1.901997</td>\n",
       "      <td>NaN</td>\n",
       "    </tr>\n",
       "    <tr>\n",
       "      <th>17</th>\n",
       "      <td>POLD4</td>\n",
       "      <td>1.597923</td>\n",
       "      <td>1.683980</td>\n",
       "      <td>NaN</td>\n",
       "    </tr>\n",
       "    <tr>\n",
       "      <th>18</th>\n",
       "      <td>POLE</td>\n",
       "      <td>1.009583</td>\n",
       "      <td>1.367434</td>\n",
       "      <td>NaN</td>\n",
       "    </tr>\n",
       "    <tr>\n",
       "      <th>19</th>\n",
       "      <td>POLE2</td>\n",
       "      <td>1.034226</td>\n",
       "      <td>1.105832</td>\n",
       "      <td>NaN</td>\n",
       "    </tr>\n",
       "    <tr>\n",
       "      <th>20</th>\n",
       "      <td>PPAT</td>\n",
       "      <td>1.223520</td>\n",
       "      <td>1.330540</td>\n",
       "      <td>NaN</td>\n",
       "    </tr>\n",
       "    <tr>\n",
       "      <th>21</th>\n",
       "      <td>PPIL6</td>\n",
       "      <td>1.035410</td>\n",
       "      <td>1.421380</td>\n",
       "      <td>NaN</td>\n",
       "    </tr>\n",
       "    <tr>\n",
       "      <th>22</th>\n",
       "      <td>RIMKLB</td>\n",
       "      <td>1.878492</td>\n",
       "      <td>2.538329</td>\n",
       "      <td>1.198324</td>\n",
       "    </tr>\n",
       "    <tr>\n",
       "      <th>23</th>\n",
       "      <td>SDHB</td>\n",
       "      <td>NaN</td>\n",
       "      <td>1.362981</td>\n",
       "      <td>1.275389</td>\n",
       "    </tr>\n",
       "    <tr>\n",
       "      <th>24</th>\n",
       "      <td>SKI</td>\n",
       "      <td>1.387378</td>\n",
       "      <td>1.518612</td>\n",
       "      <td>NaN</td>\n",
       "    </tr>\n",
       "  </tbody>\n",
       "</table>\n",
       "</div>"
      ],
      "text/plain": [
       "      Genes  Student's T-test Difference HuRKO-DMSO_HuRKO-E20  \\\n",
       "0      CDT1                                          1.521299   \n",
       "1       CGA                                               NaN   \n",
       "2     DDX11                                          1.069162   \n",
       "3     EFHD1                                               NaN   \n",
       "4      ELP3                                          1.335864   \n",
       "5     FDFT1                                          1.684698   \n",
       "6      FDX1                                          1.367355   \n",
       "7      FECH                                          1.167544   \n",
       "8     HMGCR                                          2.191497   \n",
       "9    HMGCS1                                          1.226283   \n",
       "10    HMOX1                                          1.974849   \n",
       "11    HTRA1                                          1.564651   \n",
       "12     LCN1                                               NaN   \n",
       "13     LIAS                                          2.263477   \n",
       "14  MRPS18C                                               NaN   \n",
       "15     ODC1                                          1.503748   \n",
       "16    POLD1                                          1.501854   \n",
       "17    POLD4                                          1.597923   \n",
       "18     POLE                                          1.009583   \n",
       "19    POLE2                                          1.034226   \n",
       "20     PPAT                                          1.223520   \n",
       "21    PPIL6                                          1.035410   \n",
       "22   RIMKLB                                          1.878492   \n",
       "23     SDHB                                               NaN   \n",
       "24      SKI                                          1.387378   \n",
       "\n",
       "    Student's T-test Difference WT-DMSO_WT-E20  \\\n",
       "0                                     1.691809   \n",
       "1                                     2.242831   \n",
       "2                                     1.343341   \n",
       "3                                     1.037879   \n",
       "4                                     1.727489   \n",
       "5                                     1.495616   \n",
       "6                                     1.791100   \n",
       "7                                     1.485250   \n",
       "8                                     1.404247   \n",
       "9                                     1.231774   \n",
       "10                                    1.781356   \n",
       "11                                    1.385703   \n",
       "12                                    1.694185   \n",
       "13                                    3.178721   \n",
       "14                                    1.449196   \n",
       "15                                    1.759535   \n",
       "16                                    1.901997   \n",
       "17                                    1.683980   \n",
       "18                                    1.367434   \n",
       "19                                    1.105832   \n",
       "20                                    1.330540   \n",
       "21                                    1.421380   \n",
       "22                                    2.538329   \n",
       "23                                    1.362981   \n",
       "24                                    1.518612   \n",
       "\n",
       "    Student's T-test Difference WT-DMSO_HuRKO-DMSO  \n",
       "0                                              NaN  \n",
       "1                                         6.614213  \n",
       "2                                              NaN  \n",
       "3                                         1.460240  \n",
       "4                                              NaN  \n",
       "5                                              NaN  \n",
       "6                                              NaN  \n",
       "7                                              NaN  \n",
       "8                                              NaN  \n",
       "9                                              NaN  \n",
       "10                                             NaN  \n",
       "11                                             NaN  \n",
       "12                                        1.528779  \n",
       "13                                             NaN  \n",
       "14                                        1.095232  \n",
       "15                                             NaN  \n",
       "16                                             NaN  \n",
       "17                                             NaN  \n",
       "18                                             NaN  \n",
       "19                                             NaN  \n",
       "20                                             NaN  \n",
       "21                                             NaN  \n",
       "22                                        1.198324  \n",
       "23                                        1.275389  \n",
       "24                                             NaN  "
      ]
     },
     "execution_count": 16,
     "metadata": {},
     "output_type": "execute_result"
    }
   ],
   "source": [
    "OVERLAPPING_DOWN_MERGED = DOWN_MERGED[DOWN_MERGED.isna().sum(axis=1)<=1].reset_index(drop=True).sort_values(by=\"Genes\", ascending=True)\n",
    "OVERLAPPING_DOWN_MERGED"
   ]
  },
  {
   "cell_type": "markdown",
   "metadata": {},
   "source": [
    "# SAVING"
   ]
  },
  {
   "cell_type": "code",
   "execution_count": 17,
   "metadata": {},
   "outputs": [],
   "source": [
    "# save to excel in different sheets\n",
    "\n",
    "with pd.ExcelWriter(\"OVERLAPPING.xlsx\") as writer:\n",
    "    OVERLAPPING_UP_MERGED.to_excel(writer, sheet_name=\"OVERLAPPING_UP_MERGED\", index=False)\n",
    "    OVERLAPPING_DOWN_MERGED.to_excel(writer, sheet_name=\"OVERLAPPING_DOWN_MERGED\", index=False)"
   ]
  },
  {
   "cell_type": "code",
   "execution_count": 18,
   "metadata": {},
   "outputs": [],
   "source": [
    "# save MERGED to different sheets\n",
    "\n",
    "with pd.ExcelWriter(\"MERGED.xlsx\") as writer:\n",
    "    UP_MERGED.to_excel(writer, sheet_name=\"UP_MERGED\", index=False)\n",
    "    DOWN_MERGED.to_excel(writer, sheet_name=\"DOWN_MERGED\", index=False)"
   ]
  },
  {
   "cell_type": "code",
   "execution_count": null,
   "metadata": {},
   "outputs": [],
   "source": []
  }
 ],
 "metadata": {
  "kernelspec": {
   "display_name": "Python 3.8.13 ('logd_experiments')",
   "language": "python",
   "name": "python3"
  },
  "language_info": {
   "codemirror_mode": {
    "name": "ipython",
    "version": 3
   },
   "file_extension": ".py",
   "mimetype": "text/x-python",
   "name": "python",
   "nbconvert_exporter": "python",
   "pygments_lexer": "ipython3",
   "version": "3.8.13"
  },
  "orig_nbformat": 4,
  "vscode": {
   "interpreter": {
    "hash": "e8d361227735b5db086e1be3ad0e87e90987011cc951d4d808f6d13587b1be80"
   }
  }
 },
 "nbformat": 4,
 "nbformat_minor": 2
}
